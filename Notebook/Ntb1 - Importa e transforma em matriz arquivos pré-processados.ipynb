{
 "cells": [
  {
   "cell_type": "code",
   "execution_count": 1,
   "metadata": {},
   "outputs": [],
   "source": [
    "#DATASET DE ENTRADA\n",
    "pastaTrab = 'D:\\\\TCC\\Meu TCC\\\\Dados\\\\1 - Dados Brutos'"
   ]
  },
  {
   "cell_type": "code",
   "execution_count": 2,
   "metadata": {},
   "outputs": [],
   "source": [
    "#IMPORTA PANDAS\n",
    "import pandas as pd\n",
    "import warnings\n",
    "warnings.filterwarnings(\"ignore\")"
   ]
  },
  {
   "cell_type": "code",
   "execution_count": 3,
   "metadata": {},
   "outputs": [],
   "source": [
    "#IMPORTA TABELAS ORIGINÁRIAS DA EXTRAÇÃO DO FMI E BANCO MUNDIAL\n",
    "df_CargaTributaria = pd.read_excel(pastaTrab + '\\\\FMI\\\\cargaTributaria_py.xlsx')\n",
    "df_FiscalExpense = pd.read_excel(pastaTrab + '\\\\FMI\\\\FiscalExpense_py.xlsx')\n",
    "df_WBDI = pd.read_excel(pastaTrab + '\\\\Banco Mundial\\\\Data_Extract_From_World_Development_Indicators_py.xlsx')\n",
    "df_WWGI = pd.read_excel(pastaTrab + '\\\\WWGI\\\\wgidataset_py.xlsx')"
   ]
  },
  {
   "cell_type": "code",
   "execution_count": 4,
   "metadata": {},
   "outputs": [
    {
     "name": "stdout",
     "output_type": "stream",
     "text": [
      "A panilha eletrônica cargaTributaria_py.xlsx tem linhas = 128 e colunas = 22\n",
      "A panilha eletrônica FiscalExpense_py.xlsx tem linhas = 251 e colunas = 23\n",
      "A panilha eletrônica Data_Extract_From_World_Development_Indicators_py.xlsx tem linhas = 651 e colunas = 23\n",
      "A panilha eletrônica wgidataset_py.xls tem linhas = 1284 e colunas = 23\n"
     ]
    }
   ],
   "source": [
    "# DATASET em formato amplo\n",
    "tp1 = df_CargaTributaria.shape\n",
    "tp2 = df_FiscalExpense.shape\n",
    "tp3 = df_WBDI.shape\n",
    "tp4 = df_WWGI.shape\n",
    "print('A panilha eletrônica cargaTributaria_py.xlsx tem linhas = ' + str(tp1[0]) +' e colunas = ' + str(tp1[1]))\n",
    "print('A panilha eletrônica FiscalExpense_py.xlsx tem linhas = ' + str(tp2[0]) +' e colunas = ' + str(tp2[1]))\n",
    "print('A panilha eletrônica Data_Extract_From_World_Development_Indicators_py.xlsx tem linhas = ' + str(tp3[0]) +' e colunas = ' + str(tp3[1]))\n",
    "print('A panilha eletrônica wgidataset_py.xls tem linhas = ' + str(tp4[0]) +' e colunas = ' + str(tp4[1]))"
   ]
  },
  {
   "cell_type": "code",
   "execution_count": 5,
   "metadata": {},
   "outputs": [],
   "source": [
    "#CRIA MATRIZ E EXPORTA CSV PARA df_CargaTributaria\n",
    "df_CargaTributaria = df_CargaTributaria.melt(id_vars = ['Country'], value_vars = ['2001', '2002', '2003', '2004', '2005', '2006', '2007','2008', '2009', '2010', '2011','2012', '2013', '2014', '2015', '2016','2017','2018', '2019', '2020'], \n",
    "                                             var_name =  'Ano' , value_name ='Tax_%_GDP')\n",
    "df_CargaTributaria.to_csv('D:\\\\TCC\\Meu TCC\\\\Dados\\\\1 - Dados Brutos\\\\01_CARGA_TRIBUTARIA.csv')"
   ]
  },
  {
   "cell_type": "code",
   "execution_count": 6,
   "metadata": {},
   "outputs": [],
   "source": [
    "#CRIA MATRIZ E EXPORTA CSV PARA df_FiscalExpense\n",
    "df2 = df_FiscalExpense.melt(id_vars = ['Country', 'Indicador'], value_vars = ['2001', '2002', '2003', '2004', '2005', '2006','2007', '2008', '2009', '2010', '2011', '2012', '2013', '2014', '2015','2016', '2017', '2018', '2019', '2020'], var_name =  'Ano' , value_name ='%_GDP')\n",
    "df_FiscalExpense = df2.pivot(index = ['Country', 'Ano'], columns=['Indicador'])\n",
    "df_FiscalExpense.to_csv('D:\\\\TCC\\Meu TCC\\\\Dados\\\\1 - Dados Brutos\\\\02_GASTOS.csv')"
   ]
  },
  {
   "cell_type": "code",
   "execution_count": 7,
   "metadata": {},
   "outputs": [],
   "source": [
    "#CRIA MATRIZ E EXPORTA CSV PARA df_WBDI\n",
    "df3 = df_WBDI.melt(id_vars = ['Country Name', 'Indicador'], value_vars = ['2001', '2002', '2003', '2004', '2005', '2006','2007', '2008', '2009', '2010', '2011', '2012', '2013', '2014', '2015','2016', '2017', '2018', '2019', '2020'], var_name =  'Ano' , value_name ='%_GDP')\n",
    "df_WBDI = df3.pivot(index = ['Country Name', 'Ano'], columns=['Indicador'])\n",
    "df_WBDI.to_csv('D:\\\\TCC\\Meu TCC\\\\Dados\\\\1 - Dados Brutos\\\\03_WBDI.csv')"
   ]
  },
  {
   "cell_type": "code",
   "execution_count": 8,
   "metadata": {},
   "outputs": [],
   "source": [
    "#CRIA MATRIZ E EXPORTA CSV PARA df_WWGI\n",
    "df4 = df_WWGI.melt(id_vars = ['Country', 'Indicador'], value_vars = ['2001', '2002', '2003', '2004', '2005', '2006','2007', '2008', '2009', '2010', '2011', '2012', '2013', '2014', '2015','2016', '2017', '2018', '2019', '2020'], var_name =  'Ano' , value_name ='%_GDP')\n",
    "df_WWGI = df4.pivot(index = ['Country', 'Ano'], columns=['Indicador'])\n",
    "df_WWGI.to_csv('D:\\\\TCC\\Meu TCC\\\\Dados\\\\1 - Dados Brutos\\\\04_WWGI.csv')"
   ]
  },
  {
   "cell_type": "code",
   "execution_count": 9,
   "metadata": {},
   "outputs": [
    {
     "name": "stdout",
     "output_type": "stream",
     "text": [
      "O Dataset df_CargaTributaria tem linhas = 2560 e colunas = 3\n",
      "O Dataset df_FiscalExpense tem linhas = 2520 e colunas = 2\n",
      "O Dataset df_WBDI tem linhas  = 4340 e colunas = 3\n",
      "O Dataset df_WWGI tem linhas  = 4280 e colunas = 6\n"
     ]
    }
   ],
   "source": [
    "# DATASET em formato longo\n",
    "tp1 = df_CargaTributaria.shape\n",
    "tp2 = df_FiscalExpense.shape\n",
    "tp3 = df_WBDI.shape\n",
    "tp4 = df_WWGI.shape\n",
    "print('O Dataset df_CargaTributaria tem linhas = ' + str(tp1[0]) +' e colunas = ' + str(tp1[1]))\n",
    "print('O Dataset df_FiscalExpense tem linhas = ' + str(tp2[0]) +' e colunas = ' + str(tp2[1]))\n",
    "print('O Dataset df_WBDI tem linhas  = ' + str(tp3[0]) +' e colunas = ' + str(tp3[1]))\n",
    "print('O Dataset df_WWGI tem linhas  = ' + str(tp4[0]) +' e colunas = ' + str(tp4[1]))"
   ]
  },
  {
   "cell_type": "code",
   "execution_count": null,
   "metadata": {},
   "outputs": [],
   "source": []
  }
 ],
 "metadata": {
  "kernelspec": {
   "display_name": "Python 3",
   "language": "python",
   "name": "python3"
  },
  "language_info": {
   "codemirror_mode": {
    "name": "ipython",
    "version": 3
   },
   "file_extension": ".py",
   "mimetype": "text/x-python",
   "name": "python",
   "nbconvert_exporter": "python",
   "pygments_lexer": "ipython3",
   "version": "3.7.3"
  }
 },
 "nbformat": 4,
 "nbformat_minor": 4
}
