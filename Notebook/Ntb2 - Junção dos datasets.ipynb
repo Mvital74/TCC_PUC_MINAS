{
 "cells": [
  {
   "cell_type": "code",
   "execution_count": 2,
   "metadata": {},
   "outputs": [],
   "source": [
    "#DATASET DE ENTRADA\n",
    "pastaTrab = 'D:\\\\TCC\\Meu TCC\\\\Dados\\\\2 - Dados Estruturados'"
   ]
  },
  {
   "cell_type": "code",
   "execution_count": 3,
   "metadata": {},
   "outputs": [],
   "source": [
    "#IMPORTA BIBLIOTECAS\n",
    "import pandas as pd\n",
    "import warnings\n",
    "warnings.filterwarnings(\"ignore\")\n",
    "pd.set_option('max_rows', None)"
   ]
  },
  {
   "cell_type": "markdown",
   "metadata": {},
   "source": [
    "# Ajuste da classificação dos países"
   ]
  },
  {
   "cell_type": "code",
   "execution_count": 4,
   "metadata": {},
   "outputs": [],
   "source": [
    "df_country = pd.read_excel(pastaTrab + '\\\\Country_harmonization.xlsx')"
   ]
  },
  {
   "cell_type": "code",
   "execution_count": 5,
   "metadata": {
    "scrolled": true
   },
   "outputs": [],
   "source": [
    "df1 = pd.read_csv(pastaTrab + '\\\\01_CARGA_TRIBUTARIA.csv', usecols=['Country','Ano','Tax_%_GDP'])\n",
    "df1 = pd.merge(df1,df_country, how = 'left', left_on='Country', right_on='Original_Country')\n",
    "df1 = df1.loc[:,['País','Ano', 'Tax_%_GDP']]"
   ]
  },
  {
   "cell_type": "code",
   "execution_count": 6,
   "metadata": {},
   "outputs": [],
   "source": [
    "df2 = pd.read_csv(pastaTrab + '\\\\02_GASTOS.csv', names=['Country', 'Ano', 'Interest_expense_%_GDP',\n",
    "                                                        'Social_benefits_expense_%_GDP' ], skiprows=3)\n",
    "df2 = pd.merge(df2,df_country, how = 'left', left_on='Country', right_on='Original_Country')\n",
    "df2 = df2.loc[:,['País','Ano', 'Interest_expense_%_GDP', 'Social_benefits_expense_%_GDP']]"
   ]
  },
  {
   "cell_type": "code",
   "execution_count": 7,
   "metadata": {
    "scrolled": true
   },
   "outputs": [],
   "source": [
    "df3 = pd.read_csv(pastaTrab + '\\\\03_WBDI.csv',names=['Country', 'Ano', 'Agriculture_%_GDP',\n",
    "                                                        'GINI_Index', 'OilRrents_%_GDP' ], skiprows=3)\n",
    "df3 = pd.merge(df3,df_country, how = 'left', left_on='Country', right_on='Original_Country')\n",
    "df3 = df3.loc[:,['País','Ano', 'Agriculture_%_GDP','GINI_Index', 'OilRrents_%_GDP']]"
   ]
  },
  {
   "cell_type": "code",
   "execution_count": 8,
   "metadata": {},
   "outputs": [],
   "source": [
    "df4 = pd.read_csv(pastaTrab + '\\\\04_WWGI.csv', names=['Country', 'Ano', 'ControlofCorruption','GovernmentEffectiveness',\n",
    "                                     'Political_StabilityNoViolence','RegulatoryQuality','RuleofLaw',\n",
    "                                    'VoiceandAccountability'], skiprows=3)\n",
    "df4 = pd.merge(df4,df_country, how = 'left', left_on='Country', right_on='Original_Country')\n",
    "df4 = df4.loc[:,['País','Ano', 'ControlofCorruption','GovernmentEffectiveness',\n",
    "                                     'Political_StabilityNoViolence','RegulatoryQuality','RuleofLaw',\n",
    "                                    'VoiceandAccountability']]"
   ]
  },
  {
   "cell_type": "markdown",
   "metadata": {},
   "source": [
    "# Merge das bases de dados"
   ]
  },
  {
   "cell_type": "code",
   "execution_count": 9,
   "metadata": {},
   "outputs": [],
   "source": [
    "df5 = pd.merge(df1,df2, how = 'left', left_on=['País','Ano'], right_on=['País','Ano'])\n",
    "df5 = df5.loc[:,['País','Ano', 'Tax_%_GDP', 'Interest_expense_%_GDP', 'Social_benefits_expense_%_GDP']]\n"
   ]
  },
  {
   "cell_type": "code",
   "execution_count": 10,
   "metadata": {},
   "outputs": [],
   "source": [
    "df6 = pd.merge(df5,df3, how = 'left', left_on=['País','Ano'], right_on=['País','Ano'])\n",
    "df6 = df6.loc[:,['País','Ano', 'Tax_%_GDP', 'Interest_expense_%_GDP', 'Social_benefits_expense_%_GDP','Agriculture_%_GDP',\n",
    "                 'OilRrents_%_GDP','GINI_Index']]"
   ]
  },
  {
   "cell_type": "code",
   "execution_count": 11,
   "metadata": {},
   "outputs": [],
   "source": [
    "df_merged = pd.merge(df6,df4, how = 'left', left_on=['País','Ano'], right_on=['País','Ano'])\n",
    "df_merged = df_merged.loc[:,['País','Ano', 'Tax_%_GDP', 'Interest_expense_%_GDP', 'Social_benefits_expense_%_GDP',\n",
    "                             'Agriculture_%_GDP','OilRrents_%_GDP','GINI_Index','ControlofCorruption','GovernmentEffectiveness',\n",
    "                             'Political_StabilityNoViolence','RegulatoryQuality','RuleofLaw','VoiceandAccountability']]"
   ]
  },
  {
   "cell_type": "code",
   "execution_count": 12,
   "metadata": {},
   "outputs": [
    {
     "data": {
      "text/plain": [
       "(2560, 14)"
      ]
     },
     "execution_count": 12,
     "metadata": {},
     "output_type": "execute_result"
    }
   ],
   "source": [
    "df_merged.shape"
   ]
  },
  {
   "cell_type": "code",
   "execution_count": 13,
   "metadata": {},
   "outputs": [
    {
     "name": "stdout",
     "output_type": "stream",
     "text": [
      "<class 'pandas.core.frame.DataFrame'>\n",
      "Int64Index: 2560 entries, 0 to 2559\n",
      "Data columns (total 14 columns):\n",
      " #   Column                         Non-Null Count  Dtype  \n",
      "---  ------                         --------------  -----  \n",
      " 0   País                           2560 non-null   object \n",
      " 1   Ano                            2560 non-null   int64  \n",
      " 2   Tax_%_GDP                      2560 non-null   float64\n",
      " 3   Interest_expense_%_GDP         2520 non-null   float64\n",
      " 4   Social_benefits_expense_%_GDP  2500 non-null   float64\n",
      " 5   Agriculture_%_GDP              2436 non-null   float64\n",
      " 6   OilRrents_%_GDP                2332 non-null   float64\n",
      " 7   GINI_Index                     1154 non-null   float64\n",
      " 8   ControlofCorruption            2506 non-null   float64\n",
      " 9   GovernmentEffectiveness        2506 non-null   float64\n",
      " 10  Political_StabilityNoViolence  2528 non-null   float64\n",
      " 11  RegulatoryQuality              2506 non-null   float64\n",
      " 12  RuleofLaw                      2533 non-null   float64\n",
      " 13  VoiceandAccountability         2540 non-null   float64\n",
      "dtypes: float64(12), int64(1), object(1)\n",
      "memory usage: 300.0+ KB\n"
     ]
    }
   ],
   "source": [
    "df_merged.info()"
   ]
  },
  {
   "cell_type": "code",
   "execution_count": 14,
   "metadata": {},
   "outputs": [],
   "source": [
    "df_merged.to_csv('D:\\\\TCC\\Meu TCC\\\\Dados\\\\2 - Dados Estruturados\\\\05_dadosUnificados.csv')"
   ]
  },
  {
   "cell_type": "code",
   "execution_count": 16,
   "metadata": {},
   "outputs": [
    {
     "data": {
      "text/html": [
       "<div>\n",
       "<style scoped>\n",
       "    .dataframe tbody tr th:only-of-type {\n",
       "        vertical-align: middle;\n",
       "    }\n",
       "\n",
       "    .dataframe tbody tr th {\n",
       "        vertical-align: top;\n",
       "    }\n",
       "\n",
       "    .dataframe thead th {\n",
       "        text-align: right;\n",
       "    }\n",
       "</style>\n",
       "<table border=\"1\" class=\"dataframe\">\n",
       "  <thead>\n",
       "    <tr style=\"text-align: right;\">\n",
       "      <th></th>\n",
       "      <th>País</th>\n",
       "      <th>Ano</th>\n",
       "      <th>Tax_%_GDP</th>\n",
       "      <th>Interest_expense_%_GDP</th>\n",
       "      <th>Social_benefits_expense_%_GDP</th>\n",
       "      <th>Agriculture_%_GDP</th>\n",
       "      <th>OilRrents_%_GDP</th>\n",
       "      <th>GINI_Index</th>\n",
       "      <th>ControlofCorruption</th>\n",
       "      <th>GovernmentEffectiveness</th>\n",
       "      <th>Political_StabilityNoViolence</th>\n",
       "      <th>RegulatoryQuality</th>\n",
       "      <th>RuleofLaw</th>\n",
       "      <th>VoiceandAccountability</th>\n",
       "    </tr>\n",
       "  </thead>\n",
       "  <tbody>\n",
       "    <tr>\n",
       "      <th>0</th>\n",
       "      <td>Afghanistan</td>\n",
       "      <td>2001</td>\n",
       "      <td>0.000000</td>\n",
       "      <td>0.000000</td>\n",
       "      <td>0.000000</td>\n",
       "      <td>NaN</td>\n",
       "      <td>NaN</td>\n",
       "      <td>NaN</td>\n",
       "      <td>-1.295380</td>\n",
       "      <td>-2.231651</td>\n",
       "      <td>-2.440187</td>\n",
       "      <td>-2.109626</td>\n",
       "      <td>-1.778437</td>\n",
       "      <td>-2.031417</td>\n",
       "    </tr>\n",
       "    <tr>\n",
       "      <th>1</th>\n",
       "      <td>Albania</td>\n",
       "      <td>2001</td>\n",
       "      <td>0.000000</td>\n",
       "      <td>0.000000</td>\n",
       "      <td>0.000000</td>\n",
       "      <td>22.716164</td>\n",
       "      <td>0.650142</td>\n",
       "      <td>NaN</td>\n",
       "      <td>-0.857256</td>\n",
       "      <td>-0.755118</td>\n",
       "      <td>-0.537979</td>\n",
       "      <td>-0.254359</td>\n",
       "      <td>-1.008780</td>\n",
       "      <td>-0.285139</td>\n",
       "    </tr>\n",
       "    <tr>\n",
       "      <th>2</th>\n",
       "      <td>Argentina</td>\n",
       "      <td>2001</td>\n",
       "      <td>12.178407</td>\n",
       "      <td>0.809364</td>\n",
       "      <td>6.400217</td>\n",
       "      <td>4.568590</td>\n",
       "      <td>1.613400</td>\n",
       "      <td>53.3</td>\n",
       "      <td>-0.192119</td>\n",
       "      <td>0.032177</td>\n",
       "      <td>0.099359</td>\n",
       "      <td>0.257245</td>\n",
       "      <td>-0.149923</td>\n",
       "      <td>0.418347</td>\n",
       "    </tr>\n",
       "    <tr>\n",
       "      <th>3</th>\n",
       "      <td>Armenia</td>\n",
       "      <td>2001</td>\n",
       "      <td>0.000000</td>\n",
       "      <td>0.000000</td>\n",
       "      <td>0.000000</td>\n",
       "      <td>NaN</td>\n",
       "      <td>0.000000</td>\n",
       "      <td>35.4</td>\n",
       "      <td>-0.759535</td>\n",
       "      <td>-0.515753</td>\n",
       "      <td>-0.683588</td>\n",
       "      <td>-0.116563</td>\n",
       "      <td>-0.478566</td>\n",
       "      <td>-0.374595</td>\n",
       "    </tr>\n",
       "    <tr>\n",
       "      <th>4</th>\n",
       "      <td>Australia</td>\n",
       "      <td>2001</td>\n",
       "      <td>29.531483</td>\n",
       "      <td>1.301619</td>\n",
       "      <td>10.706994</td>\n",
       "      <td>3.502198</td>\n",
       "      <td>0.928857</td>\n",
       "      <td>33.5</td>\n",
       "      <td>1.923246</td>\n",
       "      <td>1.810187</td>\n",
       "      <td>1.334552</td>\n",
       "      <td>1.637249</td>\n",
       "      <td>1.751407</td>\n",
       "      <td>1.471305</td>\n",
       "    </tr>\n",
       "    <tr>\n",
       "      <th>5</th>\n",
       "      <td>Austria</td>\n",
       "      <td>2001</td>\n",
       "      <td>45.190328</td>\n",
       "      <td>3.728058</td>\n",
       "      <td>21.590228</td>\n",
       "      <td>1.670703</td>\n",
       "      <td>0.040529</td>\n",
       "      <td>NaN</td>\n",
       "      <td>1.809211</td>\n",
       "      <td>1.929282</td>\n",
       "      <td>0.823827</td>\n",
       "      <td>1.534618</td>\n",
       "      <td>1.842372</td>\n",
       "      <td>1.317559</td>\n",
       "    </tr>\n",
       "    <tr>\n",
       "      <th>6</th>\n",
       "      <td>Azerbaijan</td>\n",
       "      <td>2001</td>\n",
       "      <td>0.000000</td>\n",
       "      <td>0.000000</td>\n",
       "      <td>0.000000</td>\n",
       "      <td>14.837460</td>\n",
       "      <td>22.527922</td>\n",
       "      <td>36.5</td>\n",
       "      <td>-1.300618</td>\n",
       "      <td>-1.005987</td>\n",
       "      <td>-0.830194</td>\n",
       "      <td>-0.931884</td>\n",
       "      <td>-1.149980</td>\n",
       "      <td>-0.906229</td>\n",
       "    </tr>\n",
       "    <tr>\n",
       "      <th>7</th>\n",
       "      <td>Bahamas</td>\n",
       "      <td>2001</td>\n",
       "      <td>9.859541</td>\n",
       "      <td>1.210652</td>\n",
       "      <td>0.858397</td>\n",
       "      <td>1.198630</td>\n",
       "      <td>0.000000</td>\n",
       "      <td>NaN</td>\n",
       "      <td>1.348332</td>\n",
       "      <td>1.295001</td>\n",
       "      <td>1.280098</td>\n",
       "      <td>1.193974</td>\n",
       "      <td>1.316824</td>\n",
       "      <td>1.202225</td>\n",
       "    </tr>\n",
       "    <tr>\n",
       "      <th>8</th>\n",
       "      <td>Bahrain</td>\n",
       "      <td>2001</td>\n",
       "      <td>2.214246</td>\n",
       "      <td>0.000000</td>\n",
       "      <td>0.749660</td>\n",
       "      <td>NaN</td>\n",
       "      <td>3.132440</td>\n",
       "      <td>NaN</td>\n",
       "      <td>0.380999</td>\n",
       "      <td>0.588942</td>\n",
       "      <td>0.055774</td>\n",
       "      <td>0.789343</td>\n",
       "      <td>0.298458</td>\n",
       "      <td>-1.056880</td>\n",
       "    </tr>\n",
       "    <tr>\n",
       "      <th>9</th>\n",
       "      <td>Barbados</td>\n",
       "      <td>2001</td>\n",
       "      <td>0.000000</td>\n",
       "      <td>0.000000</td>\n",
       "      <td>0.000000</td>\n",
       "      <td>2.118186</td>\n",
       "      <td>0.224812</td>\n",
       "      <td>NaN</td>\n",
       "      <td>1.571706</td>\n",
       "      <td>1.446284</td>\n",
       "      <td>1.150208</td>\n",
       "      <td>1.308765</td>\n",
       "      <td>1.423044</td>\n",
       "      <td>1.264498</td>\n",
       "    </tr>\n",
       "  </tbody>\n",
       "</table>\n",
       "</div>"
      ],
      "text/plain": [
       "          País   Ano  Tax_%_GDP  Interest_expense_%_GDP  \\\n",
       "0  Afghanistan  2001   0.000000                0.000000   \n",
       "1      Albania  2001   0.000000                0.000000   \n",
       "2    Argentina  2001  12.178407                0.809364   \n",
       "3      Armenia  2001   0.000000                0.000000   \n",
       "4    Australia  2001  29.531483                1.301619   \n",
       "5      Austria  2001  45.190328                3.728058   \n",
       "6   Azerbaijan  2001   0.000000                0.000000   \n",
       "7      Bahamas  2001   9.859541                1.210652   \n",
       "8      Bahrain  2001   2.214246                0.000000   \n",
       "9     Barbados  2001   0.000000                0.000000   \n",
       "\n",
       "   Social_benefits_expense_%_GDP  Agriculture_%_GDP  OilRrents_%_GDP  \\\n",
       "0                       0.000000                NaN              NaN   \n",
       "1                       0.000000          22.716164         0.650142   \n",
       "2                       6.400217           4.568590         1.613400   \n",
       "3                       0.000000                NaN         0.000000   \n",
       "4                      10.706994           3.502198         0.928857   \n",
       "5                      21.590228           1.670703         0.040529   \n",
       "6                       0.000000          14.837460        22.527922   \n",
       "7                       0.858397           1.198630         0.000000   \n",
       "8                       0.749660                NaN         3.132440   \n",
       "9                       0.000000           2.118186         0.224812   \n",
       "\n",
       "   GINI_Index  ControlofCorruption  GovernmentEffectiveness  \\\n",
       "0         NaN            -1.295380                -2.231651   \n",
       "1         NaN            -0.857256                -0.755118   \n",
       "2        53.3            -0.192119                 0.032177   \n",
       "3        35.4            -0.759535                -0.515753   \n",
       "4        33.5             1.923246                 1.810187   \n",
       "5         NaN             1.809211                 1.929282   \n",
       "6        36.5            -1.300618                -1.005987   \n",
       "7         NaN             1.348332                 1.295001   \n",
       "8         NaN             0.380999                 0.588942   \n",
       "9         NaN             1.571706                 1.446284   \n",
       "\n",
       "   Political_StabilityNoViolence  RegulatoryQuality  RuleofLaw  \\\n",
       "0                      -2.440187          -2.109626  -1.778437   \n",
       "1                      -0.537979          -0.254359  -1.008780   \n",
       "2                       0.099359           0.257245  -0.149923   \n",
       "3                      -0.683588          -0.116563  -0.478566   \n",
       "4                       1.334552           1.637249   1.751407   \n",
       "5                       0.823827           1.534618   1.842372   \n",
       "6                      -0.830194          -0.931884  -1.149980   \n",
       "7                       1.280098           1.193974   1.316824   \n",
       "8                       0.055774           0.789343   0.298458   \n",
       "9                       1.150208           1.308765   1.423044   \n",
       "\n",
       "   VoiceandAccountability  \n",
       "0               -2.031417  \n",
       "1               -0.285139  \n",
       "2                0.418347  \n",
       "3               -0.374595  \n",
       "4                1.471305  \n",
       "5                1.317559  \n",
       "6               -0.906229  \n",
       "7                1.202225  \n",
       "8               -1.056880  \n",
       "9                1.264498  "
      ]
     },
     "execution_count": 16,
     "metadata": {},
     "output_type": "execute_result"
    }
   ],
   "source": [
    "df_merged.head(10)"
   ]
  },
  {
   "cell_type": "code",
   "execution_count": null,
   "metadata": {},
   "outputs": [],
   "source": []
  }
 ],
 "metadata": {
  "kernelspec": {
   "display_name": "Python 3",
   "language": "python",
   "name": "python3"
  },
  "language_info": {
   "codemirror_mode": {
    "name": "ipython",
    "version": 3
   },
   "file_extension": ".py",
   "mimetype": "text/x-python",
   "name": "python",
   "nbconvert_exporter": "python",
   "pygments_lexer": "ipython3",
   "version": "3.7.3"
  }
 },
 "nbformat": 4,
 "nbformat_minor": 4
}
